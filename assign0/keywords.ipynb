{
 "cells": [
  {
   "cell_type": "code",
   "execution_count": 1,
   "metadata": {},
   "outputs": [],
   "source": [
    "# coding: utf-8\n",
    "import re\n",
    "import csv"
   ]
  },
  {
   "cell_type": "code",
   "execution_count": 8,
   "metadata": {},
   "outputs": [
    {
     "name": "stdout",
     "output_type": "stream",
     "text": [
      "china 94\n",
      "us 64\n",
      "trade 58\n",
      "chinese 51\n",
      "war 38\n",
      "trump 32\n",
      "beijing 25\n",
      "would 22\n",
      "tariffs 22\n",
      "u 18\n",
      "president 16\n",
      "also 15\n",
      "america 15\n",
      "american 14\n",
      "deal 14\n"
     ]
    }
   ],
   "source": [
    "all_file = [\"trade-wars-news1.txt\",\n",
    "                   \"trade-wars-news2.txt\",\n",
    "                   \"trade-wars-news3.txt\",\n",
    "                   \"trade-wars-news4.txt\",\n",
    "                   \"trade-wars-news5.txt\"]\n",
    "read_all_file = []\n",
    "\n",
    "for file in all_file:\n",
    "    f = open(file,\"r+\")\n",
    "    contents= f.read()\n",
    "    read_all_file.append(contents)\n",
    "    all_words = \"\".join(read_all_file)\n",
    "\n",
    "word_count = {}\n",
    "\n",
    "punctuation=\"[!@#$%^&*()_+{}:\\\"<>?,./;“”‘’]+\"\n",
    "words = re.sub(punctuation,' ', all_words) \n",
    "words_list = words.lower().split()\n",
    "\n",
    "# add stop-word, here adopt NLTK's list of english stopwords, but one could also customlize it\n",
    "stop_words = [\"i\", \"me\", \"my\", \"myself\", \"we\", \"our\", \"ours\", \"ourselves\", \"you\", \"your\", \"yours\", \"yourself\", \"yourselves\", \"he\", \"him\", \"his\", \"himself\", \"she\", \"her\", \"hers\", \"herself\", \"it\", \"its\", \"itself\", \"they\", \"them\", \"their\", \"theirs\", \"themselves\", \"what\", \"which\", \"who\", \"whom\", \"this\", \"that\", \"these\", \"those\", \"am\", \"is\", \"are\", \"was\", \"were\", \"be\", \"been\", \"being\", \"have\", \"has\", \"had\", \"having\", \"do\", \"does\", \"did\", \"doing\", \"a\", \"an\", \"the\", \"and\", \"but\", \"if\", \"or\", \"because\", \"as\", \"until\", \"while\", \"of\", \"at\", \"by\", \"for\", \"with\", \"about\", \"against\", \"between\", \"into\", \"through\", \"during\", \"before\", \"after\", \"above\", \"below\", \"to\", \"from\", \"up\", \"down\", \"in\", \"out\", \"on\", \"off\", \"over\", \"under\", \"again\", \"further\", \"then\", \"once\", \"here\", \"there\", \"when\", \"where\", \"why\", \"how\", \"all\", \"any\", \"both\", \"each\", \"few\", \"more\", \"most\", \"other\", \"some\", \"such\", \"no\", \"nor\", \"not\", \"only\", \"own\", \"same\", \"so\", \"than\", \"too\", \"very\", \"s\", \"t\", \"can\", \"will\", \"just\", \"don\", \"said\", \"should\", \"now\"] #could customs stop words \n",
    "\n",
    "\n",
    "for word in words_list:\n",
    "    if not word in stop_words:\n",
    "        if not word in word_count:\n",
    "            word_count[word] = 1\n",
    "        else:\n",
    "            word_count[word] += 1\n",
    "\n",
    "\n",
    "\n",
    "def get_count(word_count_tuples):\n",
    "    return word_count_tuples[1]\n",
    "\n",
    "items = sorted(word_count.items(), key = get_count, reverse = True)\n",
    "\n",
    "#print the top 15 keywords \n",
    "for item in items[0:15]:\n",
    "    print(item[0],item[1])"
   ]
  },
  {
   "cell_type": "code",
   "execution_count": 9,
   "metadata": {},
   "outputs": [],
   "source": [
    "# full keyword frequency list into a CSV file\n",
    "\n",
    "#items = sorted(word_count.items(), key = get_count, reverse = True)\n",
    "headers = ['keyword','frequency']\n",
    "\n",
    "with open('news.csv','w') as n:\n",
    "    n_csv = csv.writer(n)\n",
    "    n_csv.writerow(headers)\n",
    "    n_csv.writerows(items)\n"
   ]
  },
  {
   "cell_type": "code",
   "execution_count": null,
   "metadata": {},
   "outputs": [],
   "source": []
  }
 ],
 "metadata": {
  "kernelspec": {
   "display_name": "Python 3",
   "language": "python",
   "name": "python3"
  },
  "language_info": {
   "codemirror_mode": {
    "name": "ipython",
    "version": 3
   },
   "file_extension": ".py",
   "mimetype": "text/x-python",
   "name": "python",
   "nbconvert_exporter": "python",
   "pygments_lexer": "ipython3",
   "version": "3.7.0"
  }
 },
 "nbformat": 4,
 "nbformat_minor": 2
}
