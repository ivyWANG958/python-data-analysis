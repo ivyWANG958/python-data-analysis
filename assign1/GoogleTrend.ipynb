{
 "cells": [
  {
   "cell_type": "code",
   "execution_count": 1,
   "metadata": {},
   "outputs": [],
   "source": [
    "from selenium import webdriver\n",
    "import requests\n",
    "import csv\n",
    "from bs4 import BeautifulSoup"
   ]
  },
  {
   "cell_type": "code",
   "execution_count": 2,
   "metadata": {},
   "outputs": [],
   "source": [
    "def get_by_selenium(url):\n",
    "    browser = webdriver.Chrome()\n",
    "    browser.get(url)\n",
    "    h = browser.find_element_by_css_selector('html')\n",
    "    t = h.get_attribute('innerHTML')\n",
    "    return t"
   ]
  },
  {
   "cell_type": "code",
   "execution_count": 3,
   "metadata": {},
   "outputs": [],
   "source": [
    "t = get_by_selenium('https://trends.google.com/trends/trendingsearches/daily?geo={}'.format(\"US\")) #try UK, CA(Canada), JP(Japan), FR(France), etc."
   ]
  },
  {
   "cell_type": "code",
   "execution_count": 4,
   "metadata": {},
   "outputs": [],
   "source": [
    "mypage = BeautifulSoup(t)\n",
    "#mypage"
   ]
  },
  {
   "cell_type": "code",
   "execution_count": 5,
   "metadata": {},
   "outputs": [
    {
     "data": {
      "text/plain": [
       "'United States'"
      ]
     },
     "execution_count": 5,
     "metadata": {},
     "output_type": "execute_result"
    }
   ],
   "source": [
    "country = mypage.find('div',{\"class\":\"_md-text\"}).text.strip()\n",
    "country"
   ]
  },
  {
   "cell_type": "code",
   "execution_count": 6,
   "metadata": {},
   "outputs": [
    {
     "name": "stdout",
     "output_type": "stream",
     "text": [
      "Argentina\n",
      "\n",
      "Australia\n",
      "\n",
      "Austria\n",
      "\n",
      "Belgium\n",
      "\n",
      "Brazil\n",
      "\n",
      "Canada\n",
      "\n",
      "Chile\n",
      "\n",
      "Colombia\n",
      "\n",
      "Czechia\n",
      "\n",
      "Denmark\n",
      "\n",
      "Egypt\n",
      "\n",
      "Finland\n",
      "\n",
      "France\n",
      "\n",
      "Germany\n",
      "\n",
      "Greece\n",
      "\n",
      "Hong Kong\n",
      "\n",
      "Hungary\n",
      "\n",
      "India\n",
      "\n",
      "Indonesia\n",
      "\n",
      "Ireland\n",
      "\n",
      "Israel\n",
      "\n",
      "Italy\n",
      "\n",
      "Japan\n",
      "\n",
      "Kenya\n",
      "\n",
      "Malaysia\n",
      "\n",
      "Mexico\n",
      "\n",
      "Netherlands\n",
      "\n",
      "New Zealand\n",
      "\n",
      "Nigeria\n",
      "\n",
      "Norway\n",
      "\n",
      "Philippines\n",
      "\n",
      "Poland\n",
      "\n",
      "Portugal\n",
      "\n",
      "Romania\n",
      "\n",
      "Russia\n",
      "\n",
      "Saudi Arabia\n",
      "\n",
      "Singapore\n",
      "\n",
      "South Africa\n",
      "\n",
      "South Korea\n",
      "\n",
      "Sweden\n",
      "\n",
      "Switzerland\n",
      "\n",
      "Taiwan\n",
      "\n",
      "Thailand\n",
      "\n",
      "Turkey\n",
      "\n",
      "Ukraine\n",
      "\n",
      "United Kingdom\n",
      "\n",
      "Vietnam\n",
      "\n"
     ]
    }
   ],
   "source": [
    "#All opinions listed here\n",
    "ops = mypage.findAll('md-content',{\"class\":\"_md\"})\n",
    "op = ops[0].text.splitlines()\n",
    "for opinions in op[4:]: #the 5th is the actual start\n",
    "    opinion = opinions.strip()\n",
    "    print(opinion)"
   ]
  },
  {
   "cell_type": "code",
   "execution_count": 7,
   "metadata": {},
   "outputs": [
    {
     "data": {
      "text/plain": [
       "'Saturday, November 3, 2018'"
      ]
     },
     "execution_count": 7,
     "metadata": {},
     "output_type": "execute_result"
    }
   ],
   "source": [
    "date = mypage.find('div',{'class':\"content-header-title\"}).text\n",
    "date"
   ]
  },
  {
   "cell_type": "code",
   "execution_count": 8,
   "metadata": {},
   "outputs": [],
   "source": [
    "rows = mypage.findAll(\"div\",{\"class\":\"feed-item\"})\n",
    "#rows"
   ]
  },
  {
   "cell_type": "code",
   "execution_count": 9,
   "metadata": {},
   "outputs": [],
   "source": [
    "details = rows[0].find('div',{'class':'details-wrapper'})\n",
    "#details"
   ]
  },
  {
   "cell_type": "code",
   "execution_count": 10,
   "metadata": {},
   "outputs": [
    {
     "data": {
      "text/plain": [
       "'1'"
      ]
     },
     "execution_count": 10,
     "metadata": {},
     "output_type": "execute_result"
    }
   ],
   "source": [
    "index = details.find('div',{'class':\"index\"}).text.strip()\n",
    "index"
   ]
  },
  {
   "cell_type": "code",
   "execution_count": 11,
   "metadata": {},
   "outputs": [
    {
     "data": {
      "text/plain": [
       "'Tallahassee shooting'"
      ]
     },
     "execution_count": 11,
     "metadata": {},
     "output_type": "execute_result"
    }
   ],
   "source": [
    "title = details.find('div',{'class':\"title\"}).text.strip()\n",
    "title"
   ]
  },
  {
   "cell_type": "code",
   "execution_count": 12,
   "metadata": {},
   "outputs": [
    {
     "data": {
      "text/plain": [
       "'Two dead, several others injured in Tallahassee shooting'"
      ]
     },
     "execution_count": 12,
     "metadata": {},
     "output_type": "execute_result"
    }
   ],
   "source": [
    "summary = details.find('div',{'class':\"summary-text\"}).text.strip()\n",
    "summary"
   ]
  },
  {
   "cell_type": "code",
   "execution_count": 13,
   "metadata": {},
   "outputs": [
    {
     "data": {
      "text/plain": [
       "'20K+'"
      ]
     },
     "execution_count": 13,
     "metadata": {},
     "output_type": "execute_result"
    }
   ],
   "source": [
    "search = details.find('div',{'class':\"search-count-title\"}).text  \n",
    "search"
   ]
  },
  {
   "cell_type": "code",
   "execution_count": 14,
   "metadata": {},
   "outputs": [
    {
     "data": {
      "text/plain": [
       "'WCTV • 11h ago'"
      ]
     },
     "execution_count": 14,
     "metadata": {},
     "output_type": "execute_result"
    }
   ],
   "source": [
    "source = details.find('div',{'class':\"source-and-time\"}).text.strip() \n",
    "source"
   ]
  },
  {
   "cell_type": "code",
   "execution_count": 15,
   "metadata": {},
   "outputs": [
    {
     "data": {
      "text/plain": [
       "'https://www.wctv.tv/content/news/TPD-investigating-shooting-in-Tallahassee-499452171.html'"
      ]
     },
     "execution_count": 15,
     "metadata": {},
     "output_type": "execute_result"
    }
   ],
   "source": [
    "link = details.find('div',{'class':\"summary-text\"}).a['href']\n",
    "link"
   ]
  },
  {
   "cell_type": "code",
   "execution_count": 16,
   "metadata": {},
   "outputs": [
    {
     "name": "stdout",
     "output_type": "stream",
     "text": [
      "Saturday, November 3, 2018\n",
      "United States\n",
      "----------------------------\n",
      "rank : 1\n",
      "title :  Tallahassee shooting\n",
      "summary :  Two dead, several others injured in Tallahassee shooting\n",
      "search :  20K+\n",
      "source :  WCTV | 11h ago\n",
      "link :  https://www.wctv.tv/content/news/TPD-investigating-shooting-in-Tallahassee-499452171.html\n",
      "----------\n",
      "rank : 1\n",
      "title :  Alec Baldwin\n",
      "summary :  Alec Baldwin denies he 'punched anyone over a parking spot' after arrest ...\n",
      "search :  200K+\n",
      "source :  USA TODAY | 15h ago\n",
      "link :  https://www.usatoday.com/story/life/people/2018/11/02/alec-baldwin-arrested-new-york-after-parking-dispute/1859824002/\n",
      "----------\n",
      "rank : 2\n",
      "title :  Overwatch\n",
      "summary :  Overwatch gets a McCree animated short and new character called Ashe\n",
      "search :  200K+\n",
      "source :  The Verge | 14h ago\n",
      "link :  https://www.theverge.com/2018/11/2/18052248/blizzard-blizzcon-2018-overwatch-mccree-animated-short-ashe-reveal\n",
      "----------\n",
      "rank : 3\n",
      "title :  Pete Davidson\n",
      "summary :  Pete Davidson 'Unfazed' by Ariana Grande Diss: 'He'll Joke About His Life ...\n",
      "search :  200K+\n",
      "source :  PEOPLE.com | 12h ago\n",
      "link :  https://people.com/music/pete-davidson-unfazed-ariana-grande-diss-saturday-night-live-joke/\n",
      "----------\n",
      "rank : 4\n",
      "title :  WWE Crown Jewel\n",
      "summary :  WWE Crown Jewel results, recap, grades: Surprising new champion, World Cup ...\n",
      "search :  100K+\n",
      "source :  CBSSports.com | 18h ago\n",
      "link :  https://www.cbssports.com/wwe/news/wwe-crown-jewel-results-recap-grades-surprising-new-champion-world-cup-winner-crowned/\n",
      "----------\n",
      "rank : 5\n",
      "title :  House of Cards\n",
      "summary :  Review: House of Cards Collapses, Finally\n",
      "search :  100K+\n",
      "source :  Vanity Fair | 13h ago\n",
      "link :  https://www.vanityfair.com/hollywood/2018/11/house-of-cards-final-season-review\n",
      "----------\n",
      "rank : 6\n",
      "title :  Destiny 2\n",
      "summary :  How To Download 'Destiny 2' For Free Right Now\n",
      "search :  100K+\n",
      "source :  Forbes | 13h ago\n",
      "link :  https://www.forbes.com/sites/davidthier/2018/11/02/how-to-download-destiny-2-for-free-right-now-and-keep-it-forever/\n",
      "----------\n",
      "rank : 7\n",
      "title :  Justin Timberlake\n",
      "summary :  Who knows Justin Timberlake better, wife Jessica Biel or BFF Jimmy Fallon?\n",
      "search :  50K+\n",
      "source :  USA TODAY | 17h ago\n",
      "link :  https://www.usatoday.com/story/life/entertainthis/2018/11/02/jimmy-fallon-jessica-biel-test-their-justin-timberlake-knowledge/1858026002/\n",
      "----------\n",
      "rank : 8\n",
      "title :  Tornado warning\n",
      "summary :  Severe Storm Sparks Tornado Warnings for 9 Pa. and NJ Counties; Flash Flooding ...\n",
      "search :  50K+\n",
      "source :  NBC 10 Philadelphia | 7h ago\n",
      "link :  https://www.nbcphiladelphia.com/weather/Tornado-Warning-Issued-for-Parts-of-Berks-Chester-and-Montgomery-Counties-499471141.html\n",
      "----------\n",
      "rank : 9\n",
      "title :  Cole Sprouse\n",
      "summary :  'Friends' Alum Cole Sprouse on \"Feeling So, So Intimidated\" by His Crush on ...\n",
      "search :  50K+\n",
      "source :  Hollywood Reporter | 14h ago\n",
      "link :  https://www.hollywoodreporter.com/live-feed/cole-sprouse-jennifer-aniston-crush-teaching-riverdale-parents-1157654\n",
      "----------\n",
      "rank : 10\n",
      "title :  Diablo Immortal\n",
      "summary :  Diablo: Immortal feels like a Diablo game, just not one that's for me\n",
      "search :  50K+\n",
      "source :  Polygon | 6h ago\n",
      "link :  https://www.polygon.com/blizzcon/2018/11/2/18057932/diablo-immortal-demo-blizzcon-mobile-impressions\n",
      "----------\n",
      "rank : 11\n",
      "title :  Timberwolves vs Warriors\n",
      "summary :  Live updates: Warriors vs. Timberwolves, Friday at 7:30 pm\n",
      "search :  50K+\n",
      "source :  The Mercury News | 10h ago\n",
      "link :  https://www.mercurynews.com/2018/11/02/live-updates-warriors-vs-timberwolves-friday-at-730-p-m/\n",
      "----------\n",
      "rank : 12\n",
      "title :  Carnival\n",
      "summary :  Carnival cruise ship listed, frightening passengers\n",
      "search :  50K+\n",
      "source :  Miami Herald | 10h ago\n",
      "link :  https://www.miamiherald.com/news/business/tourism-cruises/article221046080.html\n",
      "----------\n",
      "rank : 13\n",
      "title :  Post Malone Crocs\n",
      "summary :  Crocs — one of teens' favorite footwear brands — partnered with Post Malone ...\n",
      "search :  50K+\n",
      "source :  Business Insider | 17h ago\n",
      "link :  https://www.businessinsider.com/crocs-post-malone-collaboration-sells-out-2018-11\n",
      "----------\n",
      "rank : 14\n",
      "title :  Barbra Streisand\n",
      "summary :  Barbra Streisand Talks Donald Trump With Bill Maher, Urges Media To Stop ...\n",
      "search :  50K+\n",
      "source :  Deadline | 4h ago\n",
      "link :  https://deadline.com/2018/11/tbarbra-streisand-donald-trump-bill-maher-press-stop-covering-rallies-video-1202495230/\n",
      "----------\n",
      "rank : 15\n",
      "title :  Bryce Harper\n",
      "summary :  Nationals make Bryce Harper qualifying offer before MLB deadline\n",
      "search :  50K+\n",
      "source :  Washington Post | 19h ago\n",
      "link :  https://www.washingtonpost.com/sports/2018/11/02/nationals-will-make-bryce-harper-qualifying-offer-before-todays-deadline/\n",
      "----------\n",
      "rank : 16\n",
      "title :  Clayton Kershaw\n",
      "summary :  Clayton Kershaw, Dodgers reach new contract to keep three-time Cy Young winner ...\n",
      "search :  50K+\n",
      "source :  CBSSports.com | 13h ago\n",
      "link :  https://www.cbssports.com/mlb/news/clayton-kershaw-dodgers-reach-new-contract-to-keep-three-time-cy-young-winner-in-los-angeles-through-2021/\n",
      "----------\n",
      "rank : 17\n",
      "title :  James Charles\n",
      "summary :  James Charles Launches His First-Ever Makeup Collection\n",
      "search :  50K+\n",
      "source :  Entertainment Tonight | 12h ago\n",
      "link :  https://www.etonline.com/james-charles-launches-his-first-ever-makeup-collection-112890\n",
      "----------\n",
      "rank : 18\n",
      "title :  LSU vs Alabama\n",
      "summary :  LSU vs. Alabama: Preview and Predictions\n",
      "search :  50K+\n",
      "source :  247Sports | 17h ago\n",
      "link :  https://247sports.com/college/lsu/LongFormArticle/LSU-Tigers-versus-Alabama-Crimson-Tide-Preview-and-Predictions-124121716/\n",
      "----------\n",
      "rank : 19\n",
      "title :  Admonished\n",
      "summary :  Magic Johnson 'Admonished' Coach Luke Walton, Putting His Future in Doubt\n",
      "search :  50K+\n",
      "source :  Complex | 14h ago\n",
      "link :  https://www.complex.com/sports/2018/11/magic-johnson-berates-luke-walton-lakers\n",
      "----------\n",
      "rank : 20\n",
      "title :  All Saints' Day\n",
      "summary :  Celebration of All Saints Day\n",
      "search :  50K+\n",
      "source :  Piqua Daily Call | 17h ago\n",
      "link :  https://www.dailycall.com/news/48590/celebration-of-all-saints-day\n",
      "----------\n"
     ]
    }
   ],
   "source": [
    "filename = \"TopSearch.csv\"\n",
    "f = open(filename, \"w\")\n",
    "\n",
    "f.write(date.replace(\",\",\"|\") + \",\" + country + \"\\n\")\n",
    "headers = \"INDEX, TITLE, SUMMARY, SEARCH, SOURCE, LINK\\n\"\n",
    "f.write(headers)\n",
    "\n",
    "print(date)\n",
    "print(country)\n",
    "print(\"----------------------------\")\n",
    "\n",
    "for row in rows:\n",
    "    details = row.findAll('div',{'class':'details-wrapper'})\n",
    "    for detail in details:  \n",
    "        index_container = detail.find('div',{'class':\"index\"})\n",
    "        index = index_container.text.strip()\n",
    "        title_container = detail.find('div',{'class':\"title\"})\n",
    "        title = title_container.text.strip()\n",
    "        summary_container = detail.find(\"div\",{\"class\":\"summary-text\"})\n",
    "        summary = summary_container.text.strip()\n",
    "        search_container = detail.find(\"div\",{\"class\":\"search-count-title\"})\n",
    "        search = search_container.text.strip()\n",
    "        source_container = detail.find('div',{'class':\"source-and-time\"})\n",
    "        source = source_container.text.strip().replace(\"•\",\"|\")\n",
    "        link_container = detail.find('div',{'class':\"summary-text\"})\n",
    "        link = link_container.a['href']\n",
    "\n",
    "        \n",
    "        print(\"rank :\", index)\n",
    "        print(\"title : \", title)\n",
    "        print(\"summary : \", summary)\n",
    "        print(\"search : \", search)\n",
    "        print(\"source : \", source)\n",
    "        print(\"link : \", link)\n",
    "        print(\"----------\")\n",
    "\n",
    "        f.write(index + \",\" + title.replace(\",\",\"|\") + \",\" + summary.replace(\",\",\"|\")  + \",\" + search + \",\" + source + \",\" + link + \"\\n\")\n",
    "\n",
    "f.close()\n"
   ]
  }
 ],
 "metadata": {
  "kernelspec": {
   "display_name": "Python 3",
   "language": "python",
   "name": "python3"
  },
  "language_info": {
   "codemirror_mode": {
    "name": "ipython",
    "version": 3
   },
   "file_extension": ".py",
   "mimetype": "text/x-python",
   "name": "python",
   "nbconvert_exporter": "python",
   "pygments_lexer": "ipython3",
   "version": "3.7.0"
  }
 },
 "nbformat": 4,
 "nbformat_minor": 2
}
